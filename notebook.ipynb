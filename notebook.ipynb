{
 "cells": [
  {
   "cell_type": "markdown",
   "metadata": {},
   "source": [
    "###  Chunk 1: Import Required Libraries\n"
   ]
  },
  {
   "cell_type": "code",
   "execution_count": 108,
   "metadata": {},
   "outputs": [],
   "source": [
    "# Import Required Libraries\n",
    "import numpy as np\n",
    "import pandas as pd\n",
    "import seaborn as sns\n",
    "import matplotlib.pyplot as plt\n",
    "from sklearn.model_selection import train_test_split, GridSearchCV\n",
    "from sklearn.preprocessing import StandardScaler\n",
    "from sklearn.linear_model import LogisticRegression\n",
    "from sklearn.svm import SVC\n",
    "from sklearn.tree import DecisionTreeClassifier\n",
    "from sklearn.ensemble import RandomForestClassifier\n",
    "from sklearn.metrics import accuracy_score, confusion_matrix, classification_report"
   ]
  },
  {
   "cell_type": "code",
   "execution_count": 128,
   "metadata": {},
   "outputs": [
    {
     "name": "stdout",
     "output_type": "stream",
     "text": [
      "Python Version: 3.12.7 | packaged by Anaconda, Inc. | (main, Oct  4 2024, 13:17:27) [MSC v.1929 64 bit (AMD64)]\n",
      "Numpy Version: 1.26.4\n",
      "Pandas Version: 2.2.3\n",
      "Seaborn Version: 0.13.2\n",
      "Matplotlib Version: 3.9.2\n",
      "Scikit-Learn Version: 1.5.2\n"
     ]
    }
   ],
   "source": [
    "#know version of all libraries\n",
    "\n",
    "import sklearn\n",
    "import sys\n",
    "\n",
    "print(f'Python Version: {sys.version}')\n",
    "print(f'Numpy Version: {np.__version__}')\n",
    "print(f'Pandas Version: {pd.__version__}')\n",
    "print(f'Seaborn Version: {sns.__version__}')\n",
    "print(f'Matplotlib Version: {plt.matplotlib.__version__}')\n",
    "print(f'Scikit-Learn Version: {sklearn.__version__}')"
   ]
  },
  {
   "cell_type": "markdown",
   "metadata": {},
   "source": [
    "### Chunk 2: Load the Dataset\n"
   ]
  },
  {
   "cell_type": "code",
   "execution_count": 109,
   "metadata": {},
   "outputs": [
    {
     "name": "stdout",
     "output_type": "stream",
     "text": [
      "First 5 Rows of the Dataset:\n",
      "   feature_0  feature_1  feature_2  feature_3  feature_4  feature_5  \\\n",
      "0     0.0200     0.0371     0.0428     0.0207     0.0954     0.0986   \n",
      "1     0.0453     0.0523     0.0843     0.0689     0.1183     0.2583   \n",
      "2     0.0262     0.0582     0.1099     0.1083     0.0974     0.2280   \n",
      "3     0.0100     0.0171     0.0623     0.0205     0.0205     0.0368   \n",
      "4     0.0762     0.0666     0.0481     0.0394     0.0590     0.0649   \n",
      "\n",
      "   feature_6  feature_7  feature_8  feature_9  ...  feature_51  feature_52  \\\n",
      "0     0.1539     0.1601     0.3109     0.2111  ...      0.0027      0.0065   \n",
      "1     0.2156     0.3481     0.3337     0.2872  ...      0.0084      0.0089   \n",
      "2     0.2431     0.3771     0.5598     0.6194  ...      0.0232      0.0166   \n",
      "3     0.1098     0.1276     0.0598     0.1264  ...      0.0121      0.0036   \n",
      "4     0.1209     0.2467     0.3564     0.4459  ...      0.0031      0.0054   \n",
      "\n",
      "   feature_53  feature_54  feature_55  feature_56  feature_57  feature_58  \\\n",
      "0      0.0159      0.0072      0.0167      0.0180      0.0084      0.0090   \n",
      "1      0.0048      0.0094      0.0191      0.0140      0.0049      0.0052   \n",
      "2      0.0095      0.0180      0.0244      0.0316      0.0164      0.0095   \n",
      "3      0.0150      0.0085      0.0073      0.0050      0.0044      0.0040   \n",
      "4      0.0105      0.0110      0.0015      0.0072      0.0048      0.0107   \n",
      "\n",
      "   feature_59  target  \n",
      "0      0.0032       R  \n",
      "1      0.0044       R  \n",
      "2      0.0078       R  \n",
      "3      0.0117       R  \n",
      "4      0.0094       R  \n",
      "\n",
      "[5 rows x 61 columns]\n"
     ]
    }
   ],
   "source": [
    "# Load the Dataset\n",
    "url = \"https://archive.ics.uci.edu/ml/machine-learning-databases/undocumented/connectionist-bench/sonar/sonar.all-data\"\n",
    "column_names = [f\"feature_{i}\" for i in range(60)] + [\"target\"]\n",
    "df = pd.read_csv(url, header=None, names=column_names)\n",
    "\n",
    "# Display the First 5 Rows\n",
    "print(\"First 5 Rows of the Dataset:\")\n",
    "print(df.head())"
   ]
  },
  {
   "cell_type": "markdown",
   "metadata": {},
   "source": [
    "### Chunk 3: Dataset Information\n"
   ]
  },
  {
   "cell_type": "code",
   "execution_count": 110,
   "metadata": {},
   "outputs": [
    {
     "name": "stdout",
     "output_type": "stream",
     "text": [
      "\n",
      "Dataset Information:\n",
      "<class 'pandas.core.frame.DataFrame'>\n",
      "RangeIndex: 208 entries, 0 to 207\n",
      "Data columns (total 61 columns):\n",
      " #   Column      Non-Null Count  Dtype  \n",
      "---  ------      --------------  -----  \n",
      " 0   feature_0   208 non-null    float64\n",
      " 1   feature_1   208 non-null    float64\n",
      " 2   feature_2   208 non-null    float64\n",
      " 3   feature_3   208 non-null    float64\n",
      " 4   feature_4   208 non-null    float64\n",
      " 5   feature_5   208 non-null    float64\n",
      " 6   feature_6   208 non-null    float64\n",
      " 7   feature_7   208 non-null    float64\n",
      " 8   feature_8   208 non-null    float64\n",
      " 9   feature_9   208 non-null    float64\n",
      " 10  feature_10  208 non-null    float64\n",
      " 11  feature_11  208 non-null    float64\n",
      " 12  feature_12  208 non-null    float64\n",
      " 13  feature_13  208 non-null    float64\n",
      " 14  feature_14  208 non-null    float64\n",
      " 15  feature_15  208 non-null    float64\n",
      " 16  feature_16  208 non-null    float64\n",
      " 17  feature_17  208 non-null    float64\n",
      " 18  feature_18  208 non-null    float64\n",
      " 19  feature_19  208 non-null    float64\n",
      " 20  feature_20  208 non-null    float64\n",
      " 21  feature_21  208 non-null    float64\n",
      " 22  feature_22  208 non-null    float64\n",
      " 23  feature_23  208 non-null    float64\n",
      " 24  feature_24  208 non-null    float64\n",
      " 25  feature_25  208 non-null    float64\n",
      " 26  feature_26  208 non-null    float64\n",
      " 27  feature_27  208 non-null    float64\n",
      " 28  feature_28  208 non-null    float64\n",
      " 29  feature_29  208 non-null    float64\n",
      " 30  feature_30  208 non-null    float64\n",
      " 31  feature_31  208 non-null    float64\n",
      " 32  feature_32  208 non-null    float64\n",
      " 33  feature_33  208 non-null    float64\n",
      " 34  feature_34  208 non-null    float64\n",
      " 35  feature_35  208 non-null    float64\n",
      " 36  feature_36  208 non-null    float64\n",
      " 37  feature_37  208 non-null    float64\n",
      " 38  feature_38  208 non-null    float64\n",
      " 39  feature_39  208 non-null    float64\n",
      " 40  feature_40  208 non-null    float64\n",
      " 41  feature_41  208 non-null    float64\n",
      " 42  feature_42  208 non-null    float64\n",
      " 43  feature_43  208 non-null    float64\n",
      " 44  feature_44  208 non-null    float64\n",
      " 45  feature_45  208 non-null    float64\n",
      " 46  feature_46  208 non-null    float64\n",
      " 47  feature_47  208 non-null    float64\n",
      " 48  feature_48  208 non-null    float64\n",
      " 49  feature_49  208 non-null    float64\n",
      " 50  feature_50  208 non-null    float64\n",
      " 51  feature_51  208 non-null    float64\n",
      " 52  feature_52  208 non-null    float64\n",
      " 53  feature_53  208 non-null    float64\n",
      " 54  feature_54  208 non-null    float64\n",
      " 55  feature_55  208 non-null    float64\n",
      " 56  feature_56  208 non-null    float64\n",
      " 57  feature_57  208 non-null    float64\n",
      " 58  feature_58  208 non-null    float64\n",
      " 59  feature_59  208 non-null    float64\n",
      " 60  target      208 non-null    object \n",
      "dtypes: float64(60), object(1)\n",
      "memory usage: 99.3+ KB\n",
      "None\n",
      "\n",
      "Missing Values:\n",
      "feature_0     0\n",
      "feature_1     0\n",
      "feature_2     0\n",
      "feature_3     0\n",
      "feature_4     0\n",
      "             ..\n",
      "feature_56    0\n",
      "feature_57    0\n",
      "feature_58    0\n",
      "feature_59    0\n",
      "target        0\n",
      "Length: 61, dtype: int64\n"
     ]
    }
   ],
   "source": [
    "# Dataset Information\n",
    "print(\"\\nDataset Information:\")\n",
    "print(df.info())\n",
    "\n",
    "# Check for Missing Values\n",
    "print(\"\\nMissing Values:\")\n",
    "print(df.isnull().sum())"
   ]
  },
  {
   "cell_type": "markdown",
   "metadata": {},
   "source": [
    "### Chunk 4: Exploratory Data Analysis (EDA)\n"
   ]
  },
  {
   "cell_type": "code",
   "execution_count": 112,
   "metadata": {},
   "outputs": [
    {
     "name": "stdout",
     "output_type": "stream",
     "text": [
      "\n",
      "Target Distribution:\n",
      "target\n",
      "M    111\n",
      "R     97\n",
      "Name: count, dtype: int64\n"
     ]
    },
    {
     "data": {
      "image/png": "[encoded data removed]",
      "text/plain": [
       "<Figure size 640x480 with 1 Axes>"
      ]
     },
     "metadata": {},
     "output_type": "display_data"
    }
   ],
   "source": [
    "# Target Distribution\n",
    "print(\"\\nTarget Distribution:\")\n",
    "print(df[\"target\"].value_counts())\n",
    "\n",
    "# Visualize Target Distribution\n",
    "sns.countplot(x=\"target\", data=df)\n",
    "plt.title(\"Target Distribution (R = Rock, M = Mine)\")\n",
    "plt.show()\n",
    "\n"
   ]
  },
  {
   "cell_type": "markdown",
   "metadata": {},
   "source": [
    "### Chunk 5: Data Preprocessing\n"
   ]
  },
  {
   "cell_type": "code",
   "execution_count": 113,
   "metadata": {},
   "outputs": [],
   "source": [
    " # Encode Target Variable\n",
    "df[\"target\"] = df[\"target\"].map({\"R\": 0, \"M\": 1})\n",
    "\n",
    "# Split Features and Target\n",
    "X = df.drop(\"target\", axis=1)\n",
    "y = df[\"target\"]\n",
    "\n",
    "# Train-Test Split\n",
    "X_train, X_test, y_train, y_test = train_test_split(X, y, test_size=0.2, random_state=42)\n",
    "\n",
    "# Feature Scaling\n",
    "scaler = StandardScaler()\n",
    "X_train_scaled = scaler.fit_transform(X_train)\n",
    "X_test_scaled = scaler.transform(X_test)"
   ]
  },
  {
   "cell_type": "markdown",
   "metadata": {},
   "source": [
    "### Chunk 6: Model Training and Evaluation\n"
   ]
  },
  {
   "cell_type": "code",
   "execution_count": 115,
   "metadata": {},
   "outputs": [
    {
     "name": "stdout",
     "output_type": "stream",
     "text": [
      "\n",
      "Logistic Regression:\n",
      "Training Accuracy: 0.9337\n",
      "Testing Accuracy: 0.8095\n",
      "\n",
      "Confusion Matrix:\n",
      "[[14  2]\n",
      " [ 6 20]]\n",
      "\n",
      "Classification Report:\n",
      "              precision    recall  f1-score   support\n",
      "\n",
      "           0       0.70      0.88      0.78        16\n",
      "           1       0.91      0.77      0.83        26\n",
      "\n",
      "    accuracy                           0.81        42\n",
      "   macro avg       0.80      0.82      0.81        42\n",
      "weighted avg       0.83      0.81      0.81        42\n",
      "\n"
     ]
    }
   ],
   "source": [
    "def evaluate_model(model, X_train, X_test, y_train, y_test):\n",
    "    # Train the Model\n",
    "    model.fit(X_train, y_train)\n",
    "    \n",
    "    # Predictions\n",
    "    y_train_pred = model.predict(X_train)\n",
    "    y_test_pred = model.predict(X_test)\n",
    "    \n",
    "    # Evaluation Metrics\n",
    "    train_accuracy = accuracy_score(y_train, y_train_pred)\n",
    "    test_accuracy = accuracy_score(y_test, y_test_pred)\n",
    "    \n",
    "    print(f\"Training Accuracy: {train_accuracy:.4f}\")\n",
    "    print(f\"Testing Accuracy: {test_accuracy:.4f}\")\n",
    "    \n",
    "    # Confusion Matrix\n",
    "    print(\"\\nConfusion Matrix:\")\n",
    "    print(confusion_matrix(y_test, y_test_pred))\n",
    "    \n",
    "    # Classification Report\n",
    "    print(\"\\nClassification Report:\")\n",
    "    print(classification_report(y_test, y_test_pred))\n",
    "\n",
    "# Logistic Regression\n",
    "print(\"\\nLogistic Regression:\")\n",
    "log_reg = LogisticRegression()\n",
    "evaluate_model(log_reg, X_train_scaled, X_test_scaled, y_train, y_test)"
   ]
  },
  {
   "cell_type": "markdown",
   "metadata": {},
   "source": [
    "### Chunk 7: Support Vector Machine (SVM)\n"
   ]
  },
  {
   "cell_type": "code",
   "execution_count": 117,
   "metadata": {},
   "outputs": [
    {
     "name": "stdout",
     "output_type": "stream",
     "text": [
      "\n",
      "Support Vector Machine:\n",
      "Training Accuracy: 0.9819\n",
      "Testing Accuracy: 0.8810\n",
      "\n",
      "Confusion Matrix:\n",
      "[[15  1]\n",
      " [ 4 22]]\n",
      "\n",
      "Classification Report:\n",
      "              precision    recall  f1-score   support\n",
      "\n",
      "           0       0.79      0.94      0.86        16\n",
      "           1       0.96      0.85      0.90        26\n",
      "\n",
      "    accuracy                           0.88        42\n",
      "   macro avg       0.87      0.89      0.88        42\n",
      "weighted avg       0.89      0.88      0.88        42\n",
      "\n"
     ]
    }
   ],
   "source": [
    "# Support Vector Machine (SVM)\n",
    "print(\"\\nSupport Vector Machine:\")\n",
    "svm = SVC()\n",
    "evaluate_model(svm,X_train_scaled, X_test_scaled, y_train, y_test)"
   ]
  },
  {
   "cell_type": "markdown",
   "metadata": {},
   "source": [
    "### Chunk 8: Decision Tree\n"
   ]
  },
  {
   "cell_type": "code",
   "execution_count": 119,
   "metadata": {},
   "outputs": [
    {
     "name": "stdout",
     "output_type": "stream",
     "text": [
      "\n",
      "Decision Tree:\n",
      "Training Accuracy: 1.0000\n",
      "Testing Accuracy: 0.7143\n",
      "\n",
      "Confusion Matrix:\n",
      "[[11  5]\n",
      " [ 7 19]]\n",
      "\n",
      "Classification Report:\n",
      "              precision    recall  f1-score   support\n",
      "\n",
      "           0       0.61      0.69      0.65        16\n",
      "           1       0.79      0.73      0.76        26\n",
      "\n",
      "    accuracy                           0.71        42\n",
      "   macro avg       0.70      0.71      0.70        42\n",
      "weighted avg       0.72      0.71      0.72        42\n",
      "\n"
     ]
    }
   ],
   "source": [
    "# Decision Tree\n",
    "print(\"\\nDecision Tree:\")\n",
    "dt = DecisionTreeClassifier(random_state=42)\n",
    "evaluate_model(dt, X_train_scaled, X_test_scaled, y_train, y_test)"
   ]
  },
  {
   "cell_type": "markdown",
   "metadata": {},
   "source": [
    "Chunk 9: Random Forest\n"
   ]
  },
  {
   "cell_type": "code",
   "execution_count": 120,
   "metadata": {},
   "outputs": [
    {
     "name": "stdout",
     "output_type": "stream",
     "text": [
      "\n",
      "Random Forest:\n",
      "Training Accuracy: 1.0000\n",
      "Testing Accuracy: 0.8571\n",
      "\n",
      "Confusion Matrix:\n",
      "[[14  2]\n",
      " [ 4 22]]\n",
      "\n",
      "Classification Report:\n",
      "              precision    recall  f1-score   support\n",
      "\n",
      "           0       0.78      0.88      0.82        16\n",
      "           1       0.92      0.85      0.88        26\n",
      "\n",
      "    accuracy                           0.86        42\n",
      "   macro avg       0.85      0.86      0.85        42\n",
      "weighted avg       0.86      0.86      0.86        42\n",
      "\n"
     ]
    }
   ],
   "source": [
    "# Random Forest\n",
    "print(\"\\nRandom Forest:\")\n",
    "rf = RandomForestClassifier(random_state=42)\n",
    "evaluate_model(rf, X_train_scaled, X_test_scaled, y_train, y_test)"
   ]
  },
  {
   "cell_type": "markdown",
   "metadata": {},
   "source": [
    "### Chunk 10: Hyperparameter Tuning (Random Forest Example)\n"
   ]
  },
  {
   "cell_type": "code",
   "execution_count": 121,
   "metadata": {},
   "outputs": [
    {
     "name": "stdout",
     "output_type": "stream",
     "text": [
      "\n",
      "Best Parameters for Random Forest:\n",
      "{'max_depth': None, 'min_samples_split': 5, 'n_estimators': 200}\n",
      "Training Accuracy: 1.0000\n",
      "Testing Accuracy: 0.8095\n",
      "\n",
      "Confusion Matrix:\n",
      "[[13  3]\n",
      " [ 5 21]]\n",
      "\n",
      "Classification Report:\n",
      "              precision    recall  f1-score   support\n",
      "\n",
      "           0       0.72      0.81      0.76        16\n",
      "           1       0.88      0.81      0.84        26\n",
      "\n",
      "    accuracy                           0.81        42\n",
      "   macro avg       0.80      0.81      0.80        42\n",
      "weighted avg       0.82      0.81      0.81        42\n",
      "\n"
     ]
    }
   ],
   "source": [
    "# Hyperparameter Tuning (Random Forest Example)\n",
    "param_grid = {\n",
    "    \"n_estimators\": [50, 100, 200],\n",
    "    \"max_depth\": [None, 10, 20],\n",
    "    \"min_samples_split\": [2, 5, 10]\n",
    "}\n",
    "\n",
    "grid_search = GridSearchCV(RandomForestClassifier(random_state=42), param_grid, cv=5, scoring=\"accuracy\")\n",
    "grid_search.fit(X_train, y_train)\n",
    "\n",
    "print(\"\\nBest Parameters for Random Forest:\")\n",
    "print(grid_search.best_params_)\n",
    "\n",
    "# Evaluate the Best Model\n",
    "best_rf = grid_search.best_estimator_\n",
    "evaluate_model(best_rf, X_train, X_test, y_train, y_test)"
   ]
  },
  {
   "cell_type": "markdown",
   "metadata": {},
   "source": [
    "### Chunk 11: Save the Model (Optional)\n"
   ]
  },
  {
   "cell_type": "code",
   "execution_count": null,
   "metadata": {},
   "outputs": [],
   "source": [
    "# Save the Model (Optional)\n",
    "import joblib\n",
    "joblib.dump(best_rf, \"sonar_rf_model.pkl\")\n",
    "\n",
    "# Load the Model (Optional)\n",
    "# loaded_model = joblib.load(\"sonar_rf_model.pkl\")"
   ]
  },
  {
   "cell_type": "code",
   "execution_count": null,
   "metadata": {},
   "outputs": [],
   "source": []
  },
  {
   "cell_type": "code",
   "execution_count": null,
   "metadata": {},
   "outputs": [],
   "source": []
  },
  {
   "cell_type": "code",
   "execution_count": null,
   "metadata": {},
   "outputs": [],
   "source": []
  },
  {
   "cell_type": "code",
   "execution_count": 73,
   "metadata": {},
   "outputs": [
    {
     "name": "stdout",
     "output_type": "stream",
     "text": [
      "<class 'pandas.core.frame.DataFrame'>\n",
      "RangeIndex: 208 entries, 0 to 207\n",
      "Data columns (total 61 columns):\n",
      " #   Column      Non-Null Count  Dtype  \n",
      "---  ------      --------------  -----  \n",
      " 0   feature_0   208 non-null    float64\n",
      " 1   feature_1   208 non-null    float64\n",
      " 2   feature_2   208 non-null    float64\n",
      " 3   feature_3   208 non-null    float64\n",
      " 4   feature_4   208 non-null    float64\n",
      " 5   feature_5   208 non-null    float64\n",
      " 6   feature_6   208 non-null    float64\n",
      " 7   feature_7   208 non-null    float64\n",
      " 8   feature_8   208 non-null    float64\n",
      " 9   feature_9   208 non-null    float64\n",
      " 10  feature_10  208 non-null    float64\n",
      " 11  feature_11  208 non-null    float64\n",
      " 12  feature_12  208 non-null    float64\n",
      " 13  feature_13  208 non-null    float64\n",
      " 14  feature_14  208 non-null    float64\n",
      " 15  feature_15  208 non-null    float64\n",
      " 16  feature_16  208 non-null    float64\n",
      " 17  feature_17  208 non-null    float64\n",
      " 18  feature_18  208 non-null    float64\n",
      " 19  feature_19  208 non-null    float64\n",
      " 20  feature_20  208 non-null    float64\n",
      " 21  feature_21  208 non-null    float64\n",
      " 22  feature_22  208 non-null    float64\n",
      " 23  feature_23  208 non-null    float64\n",
      " 24  feature_24  208 non-null    float64\n",
      " 25  feature_25  208 non-null    float64\n",
      " 26  feature_26  208 non-null    float64\n",
      " 27  feature_27  208 non-null    float64\n",
      " 28  feature_28  208 non-null    float64\n",
      " 29  feature_29  208 non-null    float64\n",
      " 30  feature_30  208 non-null    float64\n",
      " 31  feature_31  208 non-null    float64\n",
      " 32  feature_32  208 non-null    float64\n",
      " 33  feature_33  208 non-null    float64\n",
      " 34  feature_34  208 non-null    float64\n",
      " 35  feature_35  208 non-null    float64\n",
      " 36  feature_36  208 non-null    float64\n",
      " 37  feature_37  208 non-null    float64\n",
      " 38  feature_38  208 non-null    float64\n",
      " 39  feature_39  208 non-null    float64\n",
      " 40  feature_40  208 non-null    float64\n",
      " 41  feature_41  208 non-null    float64\n",
      " 42  feature_42  208 non-null    float64\n",
      " 43  feature_43  208 non-null    float64\n",
      " 44  feature_44  208 non-null    float64\n",
      " 45  feature_45  208 non-null    float64\n",
      " 46  feature_46  208 non-null    float64\n",
      " 47  feature_47  208 non-null    float64\n",
      " 48  feature_48  208 non-null    float64\n",
      " 49  feature_49  208 non-null    float64\n",
      " 50  feature_50  208 non-null    float64\n",
      " 51  feature_51  208 non-null    float64\n",
      " 52  feature_52  208 non-null    float64\n",
      " 53  feature_53  208 non-null    float64\n",
      " 54  feature_54  208 non-null    float64\n",
      " 55  feature_55  208 non-null    float64\n",
      " 56  feature_56  208 non-null    float64\n",
      " 57  feature_57  208 non-null    float64\n",
      " 58  feature_58  208 non-null    float64\n",
      " 59  feature_59  208 non-null    float64\n",
      " 60  target      208 non-null    object \n",
      "dtypes: float64(60), object(1)\n",
      "memory usage: 99.3+ KB\n"
     ]
    }
   ],
   "source": [
    "df.info()"
   ]
  },
  {
   "cell_type": "code",
   "execution_count": 74,
   "metadata": {},
   "outputs": [
    {
     "data": {
      "text/plain": [
       "feature_0     0\n",
       "feature_1     0\n",
       "feature_2     0\n",
       "feature_3     0\n",
       "feature_4     0\n",
       "             ..\n",
       "feature_56    0\n",
       "feature_57    0\n",
       "feature_58    0\n",
       "feature_59    0\n",
       "target        0\n",
       "Length: 61, dtype: int64"
      ]
     },
     "execution_count": 74,
     "metadata": {},
     "output_type": "execute_result"
    }
   ],
   "source": [
    "df.isnull().sum()"
   ]
  },
  {
   "cell_type": "code",
   "execution_count": 75,
   "metadata": {},
   "outputs": [
    {
     "data": {
      "text/plain": [
       "target\n",
       "M    111\n",
       "R     97\n",
       "Name: count, dtype: int64"
      ]
     },
     "execution_count": 75,
     "metadata": {},
     "output_type": "execute_result"
    }
   ],
   "source": [
    "df['target'].value_counts() "
   ]
  },
  {
   "cell_type": "code",
   "execution_count": 76,
   "metadata": {},
   "outputs": [
    {
     "data": {
      "image/png": "[encoded data removed]",
      "text/plain": [
       "<Figure size 640x480 with 1 Axes>"
      ]
     },
     "metadata": {},
     "output_type": "display_data"
    }
   ],
   "source": [
    "sns.countplot(x='target', data=df)\n",
    "plt.title('Class Distribution')\n",
    "plt.show()"
   ]
  },
  {
   "cell_type": "code",
   "execution_count": 77,
   "metadata": {},
   "outputs": [
    {
     "data": {
      "text/plain": [
       "0      R\n",
       "1      R\n",
       "2      R\n",
       "3      R\n",
       "4      R\n",
       "      ..\n",
       "203    M\n",
       "204    M\n",
       "205    M\n",
       "206    M\n",
       "207    M\n",
       "Name: target, Length: 208, dtype: object"
      ]
     },
     "execution_count": 77,
     "metadata": {},
     "output_type": "execute_result"
    }
   ],
   "source": [
    "df['target']"
   ]
  },
  {
   "cell_type": "code",
   "execution_count": 78,
   "metadata": {},
   "outputs": [],
   "source": [
    "df['target']=df['target'].map({'R':0,'M':1})"
   ]
  },
  {
   "cell_type": "code",
   "execution_count": 79,
   "metadata": {},
   "outputs": [
    {
     "data": {
      "image/png": "[encoded data removed]",
      "text/plain": [
       "<Figure size 1200x800 with 2 Axes>"
      ]
     },
     "metadata": {},
     "output_type": "display_data"
    }
   ],
   "source": [
    "plt.figure(figsize=(12, 8))\n",
    "sns.heatmap(df.corr(), annot=False, cmap='coolwarm')\n",
    "plt.title('Correlation Matrix')\n",
    "plt.show()"
   ]
  },
  {
   "cell_type": "code",
   "execution_count": 80,
   "metadata": {},
   "outputs": [
    {
     "data": {
      "text/plain": [
       "0      0\n",
       "1      0\n",
       "2      0\n",
       "3      0\n",
       "4      0\n",
       "      ..\n",
       "203    1\n",
       "204    1\n",
       "205    1\n",
       "206    1\n",
       "207    1\n",
       "Name: target, Length: 208, dtype: int64"
      ]
     },
     "execution_count": 80,
     "metadata": {},
     "output_type": "execute_result"
    }
   ],
   "source": [
    "df['target']"
   ]
  },
  {
   "cell_type": "code",
   "execution_count": 81,
   "metadata": {},
   "outputs": [
    {
     "name": "stdout",
     "output_type": "stream",
     "text": [
      "(166, 60)\n"
     ]
    }
   ],
   "source": [
    "\n",
    "X=df.drop('target',axis=1)\n",
    "y=df['target']\n",
    "\n",
    "X_train, X_test, y_train, y_test = train_test_split(X, y, test_size=0.2, random_state=42)\n",
    "\n",
    "print(X_train.shape)"
   ]
  },
  {
   "cell_type": "code",
   "execution_count": 82,
   "metadata": {},
   "outputs": [
    {
     "name": "stdout",
     "output_type": "stream",
     "text": [
      "0\n"
     ]
    }
   ],
   "source": [
    "#check if y contain nan values\n",
    "print(y_train.isnull().sum())\n"
   ]
  },
  {
   "cell_type": "code",
   "execution_count": 89,
   "metadata": {},
   "outputs": [
    {
     "data": {
      "text/plain": [
       "0      0\n",
       "1      0\n",
       "2      0\n",
       "3      0\n",
       "4      0\n",
       "      ..\n",
       "203    1\n",
       "204    1\n",
       "205    1\n",
       "206    1\n",
       "207    1\n",
       "Name: target, Length: 208, dtype: int64"
      ]
     },
     "execution_count": 89,
     "metadata": {},
     "output_type": "execute_result"
    }
   ],
   "source": [
    "y"
   ]
  },
  {
   "cell_type": "code",
   "execution_count": 84,
   "metadata": {},
   "outputs": [],
   "source": [
    "scaler=StandardScaler()\n",
    "X_train_scaled =scaler.fit_transform(X_train)\n",
    "X_test_scaled =scaler.transform(X_test)"
   ]
  },
  {
   "cell_type": "code",
   "execution_count": 85,
   "metadata": {},
   "outputs": [],
   "source": [
    "def evaluate_model(model, X_train, y_train, X_test, y_test):\n",
    "    model.fit(X_train, y_train)\n",
    "\n",
    "    y_train_pred = model.predict(X_train)\n",
    "    y_test_pred = model.predict(X_test)\n",
    "\n",
    "    train_accuracy = accuracy_score(y_train, y_train_pred)\n",
    "    test_accuracy = accuracy_score(y_test, y_test_pred)\n",
    "\n",
    "    print(f\"Traininig Accuracy: {train_accuracy:.4f}\")\n",
    "    print(f\"Test Accuracy: {test_accuracy:.4f}\")\n",
    "    print(\"\\nConfusion Matrix:\")\n",
    "    print(confusion_matrix(y_test, y_test_pred))\n",
    "\n",
    "    print(\"\\nClassification Report:\")\n",
    "    print(classification_report(y_test, y_test_pred))\n",
    "    \n",
    "\n"
   ]
  },
  {
   "cell_type": "code",
   "execution_count": 91,
   "metadata": {},
   "outputs": [
    {
     "name": "stdout",
     "output_type": "stream",
     "text": [
      "Logistic Regression Model:\n",
      "Traininig Accuracy: 0.9337\n",
      "Test Accuracy: 0.8095\n",
      "\n",
      "Confusion Matrix:\n",
      "[[14  2]\n",
      " [ 6 20]]\n",
      "\n",
      "Classification Report:\n",
      "              precision    recall  f1-score   support\n",
      "\n",
      "           0       0.70      0.88      0.78        16\n",
      "           1       0.91      0.77      0.83        26\n",
      "\n",
      "    accuracy                           0.81        42\n",
      "   macro avg       0.80      0.82      0.81        42\n",
      "weighted avg       0.83      0.81      0.81        42\n",
      "\n"
     ]
    }
   ],
   "source": [
    "print(\"Logistic Regression Model:\")\n",
    "log_reg = LogisticRegression()\n",
    "evaluate_model(log_reg, X_train_scaled, y_train, X_test_scaled, y_test)\n"
   ]
  },
  {
   "cell_type": "code",
   "execution_count": 94,
   "metadata": {},
   "outputs": [
    {
     "name": "stdout",
     "output_type": "stream",
     "text": [
      "\n",
      "Support Vector Machine:\n",
      "Traininig Accuracy: 0.9819\n",
      "Test Accuracy: 0.8810\n",
      "\n",
      "Confusion Matrix:\n",
      "[[15  1]\n",
      " [ 4 22]]\n",
      "\n",
      "Classification Report:\n",
      "              precision    recall  f1-score   support\n",
      "\n",
      "           0       0.79      0.94      0.86        16\n",
      "           1       0.96      0.85      0.90        26\n",
      "\n",
      "    accuracy                           0.88        42\n",
      "   macro avg       0.87      0.89      0.88        42\n",
      "weighted avg       0.89      0.88      0.88        42\n",
      "\n"
     ]
    }
   ],
   "source": [
    "# Support Vector Machine (SVM)\n",
    "print(\"\\nSupport Vector Machine:\")\n",
    "svm = SVC()\n",
    "evaluate_model(svm, X_train_scaled,   y_train,X_test_scaled ,y_test)"
   ]
  },
  {
   "cell_type": "code",
   "execution_count": 100,
   "metadata": {},
   "outputs": [
    {
     "name": "stdout",
     "output_type": "stream",
     "text": [
      "\n",
      "Decision Tree:\n",
      "Traininig Accuracy: 1.0000\n",
      "Test Accuracy: 0.7143\n",
      "\n",
      "Confusion Matrix:\n",
      "[[11  5]\n",
      " [ 7 19]]\n",
      "\n",
      "Classification Report:\n",
      "              precision    recall  f1-score   support\n",
      "\n",
      "           0       0.61      0.69      0.65        16\n",
      "           1       0.79      0.73      0.76        26\n",
      "\n",
      "    accuracy                           0.71        42\n",
      "   macro avg       0.70      0.71      0.70        42\n",
      "weighted avg       0.72      0.71      0.72        42\n",
      "\n"
     ]
    }
   ],
   "source": [
    "# Decision Tree\n",
    "print(\"\\nDecision Tree:\")\n",
    "dt = DecisionTreeClassifier(random_state=42)\n",
    "evaluate_model(dt, X_train_scaled,   y_train,X_test_scaled ,y_test)"
   ]
  },
  {
   "cell_type": "code",
   "execution_count": 102,
   "metadata": {},
   "outputs": [
    {
     "name": "stdout",
     "output_type": "stream",
     "text": [
      "\n",
      "Random Forest:\n",
      "Traininig Accuracy: 1.0000\n",
      "Test Accuracy: 0.8571\n",
      "\n",
      "Confusion Matrix:\n",
      "[[14  2]\n",
      " [ 4 22]]\n",
      "\n",
      "Classification Report:\n",
      "              precision    recall  f1-score   support\n",
      "\n",
      "           0       0.78      0.88      0.82        16\n",
      "           1       0.92      0.85      0.88        26\n",
      "\n",
      "    accuracy                           0.86        42\n",
      "   macro avg       0.85      0.86      0.85        42\n",
      "weighted avg       0.86      0.86      0.86        42\n",
      "\n"
     ]
    }
   ],
   "source": [
    "# Random Forest\n",
    "print(\"\\nRandom Forest:\")\n",
    "rf = RandomForestClassifier(random_state=42)\n",
    "evaluate_model(rf, X_train_scaled,   y_train,X_test_scaled ,y_test)"
   ]
  },
  {
   "cell_type": "code",
   "execution_count": 103,
   "metadata": {},
   "outputs": [
    {
     "name": "stdout",
     "output_type": "stream",
     "text": [
      "Best Parameters:  {'max_depth': None, 'min_samples_split': 5, 'n_estimators': 200}\n",
      "Best Score:  0.8251336898395722\n",
      "\n",
      "Random Forest:\n",
      "Traininig Accuracy: 1.0000\n",
      "Test Accuracy: 0.8095\n",
      "\n",
      "Confusion Matrix:\n",
      "[[13  3]\n",
      " [ 5 21]]\n",
      "\n",
      "Classification Report:\n",
      "              precision    recall  f1-score   support\n",
      "\n",
      "           0       0.72      0.81      0.76        16\n",
      "           1       0.88      0.81      0.84        26\n",
      "\n",
      "    accuracy                           0.81        42\n",
      "   macro avg       0.80      0.81      0.80        42\n",
      "weighted avg       0.82      0.81      0.81        42\n",
      "\n"
     ]
    }
   ],
   "source": [
    "param_grid = {\n",
    "    \"n_estimators\": [50, 100, 200],\n",
    "    \"max_depth\": [None, 10, 20],\n",
    "    \"min_samples_split\": [2, 5, 10]\n",
    "}  \n",
    "\n",
    "grid_search = GridSearchCV(RandomForestClassifier(random_state=42), param_grid, cv=5,scoring='accuracy')\n",
    "grid_search.fit(X_train_scaled, y_train)\n",
    "\n",
    "print(\"Best Parameters: \", grid_search.best_params_)\n",
    "print(\"Best Score: \", grid_search.best_score_)\n",
    "print(\"\\nRandom Forest:\")\n",
    "best_rf = grid_search.best_estimator_\n",
    "evaluate_model(best_rf, X_train_scaled, y_train, X_test_scaled, y_test)"
   ]
  },
  {
   "cell_type": "code",
   "execution_count": null,
   "metadata": {},
   "outputs": [],
   "source": []
  },
  {
   "cell_type": "code",
   "execution_count": null,
   "metadata": {},
   "outputs": [],
   "source": []
  },
  {
   "cell_type": "code",
   "execution_count": null,
   "metadata": {},
   "outputs": [],
   "source": []
  },
  {
   "cell_type": "code",
   "execution_count": null,
   "metadata": {},
   "outputs": [],
   "source": []
  }
 ],
 "metadata": {
  "kernelspec": {
   "display_name": "Python 3",
   "language": "python",
   "name": "python3"
  },
  "language_info": {
   "codemirror_mode": {
    "name": "ipython",
    "version": 3
   },
   "file_extension": ".py",
   "mimetype": "text/x-python",
   "name": "python",
   "nbconvert_exporter": "python",
   "pygments_lexer": "ipython3",
   "version": "3.12.7"
  }
 },
 "nbformat": 4,
 "nbformat_minor": 2
}
